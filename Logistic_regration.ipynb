{
 "cells": [
  {
   "cell_type": "code",
   "execution_count": 30,
   "id": "10ae8a08",
   "metadata": {},
   "outputs": [],
   "source": [
    "import pandas as pd\n",
    "import numpy as np\n",
    "import scipy as scp\n",
    "import sklearn\n",
    "import statsmodels.api as sm\n",
    "import matplotlib.pyplot as plt\n",
    "from sklearn.model_selection import train_test_split\n",
    "from sklearn.linear_model import LogisticRegression\n",
    "from sklearn.metrics import classification_report,confusion_matrix\n",
    "from sklearn import metrics\n",
    "from sklearn.metrics import confusion_matrix\n",
    "\n",
    "abalone = pd.read_csv(r\"D:\\Study\\DS\\abalone.csv\")"
   ]
  },
  {
   "cell_type": "code",
   "execution_count": 31,
   "id": "699e155b",
   "metadata": {},
   "outputs": [
    {
     "data": {
      "text/plain": [
       "Sex               0\n",
       "Length            0\n",
       "Diameter          0\n",
       "Height            0\n",
       "Whole weight      0\n",
       "Shucked weight    0\n",
       "Viscera weight    0\n",
       "Shell weight      0\n",
       "Rings             0\n",
       "dtype: int64"
      ]
     },
     "execution_count": 31,
     "metadata": {},
     "output_type": "execute_result"
    }
   ],
   "source": [
    "abalone.isnull().sum()"
   ]
  },
  {
   "cell_type": "code",
   "execution_count": null,
   "id": "0315fcff",
   "metadata": {},
   "outputs": [],
   "source": []
  },
  {
   "cell_type": "code",
   "execution_count": 32,
   "id": "8abf91b0",
   "metadata": {},
   "outputs": [],
   "source": [
    "X = abalone.drop(['Sex'],axis=1)\n",
    "y = abalone['Sex']"
   ]
  },
  {
   "cell_type": "code",
   "execution_count": 33,
   "id": "187cf919",
   "metadata": {},
   "outputs": [
    {
     "name": "stdout",
     "output_type": "stream",
     "text": [
      "['Length', 'Diameter', 'Height', 'Whole weight', 'Shucked weight', 'Viscera weight', 'Shell weight', 'Rings']\n"
     ]
    }
   ],
   "source": [
    "print(list(X.columns.values))"
   ]
  },
  {
   "cell_type": "code",
   "execution_count": 34,
   "id": "40b34415",
   "metadata": {},
   "outputs": [],
   "source": [
    "X_train, X_test, y_train, y_test = train_test_split(X,y,test_size=0.20,random_state=5)"
   ]
  },
  {
   "cell_type": "code",
   "execution_count": 35,
   "id": "c344f135",
   "metadata": {},
   "outputs": [
    {
     "name": "stdout",
     "output_type": "stream",
     "text": [
      "(3341, 8)\n",
      "(836, 8)\n",
      "(3341,)\n",
      "(836,)\n"
     ]
    }
   ],
   "source": [
    "print(X_train.shape)\n",
    "print(X_test.shape)\n",
    "print(y_train.shape)\n",
    "print(y_test.shape)"
   ]
  },
  {
   "cell_type": "code",
   "execution_count": 36,
   "id": "03ab0b19",
   "metadata": {},
   "outputs": [
    {
     "name": "stdout",
     "output_type": "stream",
     "text": [
      "{'C': 1.0, 'class_weight': None, 'dual': False, 'fit_intercept': True, 'intercept_scaling': 1, 'l1_ratio': None, 'max_iter': 100, 'multi_class': 'multinomial', 'n_jobs': None, 'penalty': None, 'random_state': 0, 'solver': 'newton-cg', 'tol': 0.0001, 'verbose': 0, 'warm_start': False}\n"
     ]
    }
   ],
   "source": [
    "model1 = LogisticRegression(random_state=0,multi_class='multinomial',penalty=None,solver='newton-cg').fit(X_train,y_train)\n",
    "\n",
    "preds = model1.predict(X_test)\n",
    "\n",
    "params = model1.get_params()\n",
    "print(params)"
   ]
  },
  {
   "cell_type": "code",
   "execution_count": 37,
   "id": "9b962df6",
   "metadata": {},
   "outputs": [
    {
     "name": "stdout",
     "output_type": "stream",
     "text": [
      "Intercept:\n",
      " [-1.78722182  1.04125814  0.74596368]\n",
      "coef:\n",
      " [[-6.14589531  6.60723869  3.9292827   1.87255755 -2.66888789  5.98940751\n",
      "  -1.50629271  0.06142569]\n",
      " [12.17937789 -6.83032097 -5.45083133 -4.22195313  2.79755394 -8.4932804\n",
      "   3.0953222  -0.1223614 ]\n",
      " [-6.03348258  0.22308228  1.52154863  2.34939558 -0.12866606  2.5038729\n",
      "  -1.58902949  0.0609357 ]]\n"
     ]
    }
   ],
   "source": [
    "print('Intercept:\\n',model1.intercept_)\n",
    "print('coef:\\n',model1.coef_)"
   ]
  },
  {
   "cell_type": "code",
   "execution_count": 38,
   "id": "a69d0b26",
   "metadata": {},
   "outputs": [
    {
     "data": {
      "text/plain": [
       "array([[2.14225705e-03, 7.40435620e+02, 5.08704752e+01, 6.50491180e+00,\n",
       "        6.93292846e-02, 3.99178031e+02, 2.21730474e-01, 1.06335148e+00],\n",
       "       [1.94731681e+05, 1.08051125e-03, 4.29273451e-03, 1.46699641e-02,\n",
       "        1.64044714e+01, 2.04840198e-04, 2.20943563e+01, 8.84828535e-01],\n",
       "       [2.39713121e-03, 1.24992341e+00, 4.57931138e+00, 1.04792339e+01,\n",
       "        8.79267542e-01, 1.22297670e+01, 2.04123619e-01, 1.06283058e+00]])"
      ]
     },
     "execution_count": 38,
     "metadata": {},
     "output_type": "execute_result"
    }
   ],
   "source": [
    "np.exp(model1.coef_)"
   ]
  },
  {
   "cell_type": "code",
   "execution_count": 39,
   "id": "ead04142",
   "metadata": {},
   "outputs": [
    {
     "data": {
      "text/plain": [
       "array([[2.14225705e-03, 7.40435620e+02, 5.08704752e+01, 6.50491180e+00,\n",
       "        6.93292846e-02, 3.99178031e+02, 2.21730474e-01, 1.06335148e+00],\n",
       "       [1.94731681e+05, 1.08051125e-03, 4.29273451e-03, 1.46699641e-02,\n",
       "        1.64044714e+01, 2.04840198e-04, 2.20943563e+01, 8.84828535e-01],\n",
       "       [2.39713121e-03, 1.24992341e+00, 4.57931138e+00, 1.04792339e+01,\n",
       "        8.79267542e-01, 1.22297670e+01, 2.04123619e-01, 1.06283058e+00]])"
      ]
     },
     "execution_count": 39,
     "metadata": {},
     "output_type": "execute_result"
    }
   ],
   "source": [
    "import numpy as np\n",
    "np.exp(model1.coef_)"
   ]
  },
  {
   "cell_type": "code",
   "execution_count": 40,
   "id": "1ce0be8c",
   "metadata": {},
   "outputs": [
    {
     "data": {
      "text/html": [
       "<div>\n",
       "<style scoped>\n",
       "    .dataframe tbody tr th:only-of-type {\n",
       "        vertical-align: middle;\n",
       "    }\n",
       "\n",
       "    .dataframe tbody tr th {\n",
       "        vertical-align: top;\n",
       "    }\n",
       "\n",
       "    .dataframe thead th {\n",
       "        text-align: right;\n",
       "    }\n",
       "</style>\n",
       "<table border=\"1\" class=\"dataframe\">\n",
       "  <thead>\n",
       "    <tr style=\"text-align: right;\">\n",
       "      <th></th>\n",
       "      <th>predicted_Female</th>\n",
       "      <th>predicted_Infant</th>\n",
       "      <th>predicted_Male</th>\n",
       "    </tr>\n",
       "  </thead>\n",
       "  <tbody>\n",
       "    <tr>\n",
       "      <th>Female</th>\n",
       "      <td>88</td>\n",
       "      <td>44</td>\n",
       "      <td>138</td>\n",
       "    </tr>\n",
       "    <tr>\n",
       "      <th>Infant</th>\n",
       "      <td>15</td>\n",
       "      <td>210</td>\n",
       "      <td>35</td>\n",
       "    </tr>\n",
       "    <tr>\n",
       "      <th>Male</th>\n",
       "      <td>79</td>\n",
       "      <td>66</td>\n",
       "      <td>161</td>\n",
       "    </tr>\n",
       "  </tbody>\n",
       "</table>\n",
       "</div>"
      ],
      "text/plain": [
       "        predicted_Female  predicted_Infant  predicted_Male\n",
       "Female                88                44             138\n",
       "Infant                15               210              35\n",
       "Male                  79                66             161"
      ]
     },
     "execution_count": 40,
     "metadata": {},
     "output_type": "execute_result"
    }
   ],
   "source": [
    "confusion_matrix(y_test,preds)\n",
    "\n",
    "confmtrx = np.array(confusion_matrix(y_test,preds))\n",
    "\n",
    "pd.DataFrame(confmtrx,index= ['Female','Infant','Male'], columns = ['predicted_Female', 'predicted_Infant','predicted_Male'])"
   ]
  },
  {
   "cell_type": "code",
   "execution_count": 41,
   "id": "4b456ac7",
   "metadata": {},
   "outputs": [
    {
     "name": "stdout",
     "output_type": "stream",
     "text": [
      "Accuracy Score: 0.5490430622009569\n",
      "              precision    recall  f1-score   support\n",
      "\n",
      "           F       0.48      0.33      0.39       270\n",
      "           I       0.66      0.81      0.72       260\n",
      "           M       0.48      0.53      0.50       306\n",
      "\n",
      "    accuracy                           0.55       836\n",
      "   macro avg       0.54      0.55      0.54       836\n",
      "weighted avg       0.54      0.55      0.54       836\n",
      "\n"
     ]
    }
   ],
   "source": [
    "#Accuracy statistics\n",
    "\n",
    "print('Accuracy Score:', metrics.accuracy_score (y_test, preds))\n",
    "\n",
    "#Create classification report\n",
    "class_report=classification_report (y_test, preds)\n",
    "print(class_report)"
   ]
  },
  {
   "cell_type": "code",
   "execution_count": null,
   "id": "f531c081",
   "metadata": {},
   "outputs": [],
   "source": []
  },
  {
   "cell_type": "code",
   "execution_count": 42,
   "id": "40a8d962",
   "metadata": {},
   "outputs": [
    {
     "name": "stdout",
     "output_type": "stream",
     "text": [
      "Optimization terminated successfully.\n",
      "         Current function value: 0.850662\n",
      "         Iterations 8\n",
      "                          MNLogit Regression Results                          \n",
      "==============================================================================\n",
      "Dep. Variable:                    Sex   No. Observations:                 3341\n",
      "Model:                        MNLogit   Df Residuals:                     3323\n",
      "Method:                           MLE   Df Model:                           16\n",
      "Date:                Sun, 15 Oct 2023   Pseudo R-squ.:                  0.2239\n",
      "Time:                        17:14:48   Log-Likelihood:                -2842.1\n",
      "converged:                       True   LL-Null:                       -3662.2\n",
      "Covariance Type:            nonrobust   LLR p-value:                     0.000\n",
      "==================================================================================\n",
      "         Sex=I       coef    std err          z      P>|z|      [0.025      0.975]\n",
      "----------------------------------------------------------------------------------\n",
      "const              2.8285      0.569      4.968      0.000       1.713       3.944\n",
      "Length            18.3254      3.142      5.832      0.000      12.167      24.484\n",
      "Diameter         -13.4377      3.870     -3.472      0.001     -21.023      -5.852\n",
      "Height            -9.3798      3.754     -2.498      0.012     -16.738      -2.021\n",
      "Whole weight      -6.0946      1.973     -3.090      0.002      -9.961      -2.228\n",
      "Shucked weight     5.4665      2.238      2.443      0.015       1.081       9.852\n",
      "Viscera weight   -14.4827      2.981     -4.858      0.000     -20.325      -8.640\n",
      "Shell weight       4.6017      2.874      1.601      0.109      -1.031      10.234\n",
      "Rings             -0.1838      0.030     -6.183      0.000      -0.242      -0.126\n",
      "----------------------------------------------------------------------------------\n",
      "         Sex=M       coef    std err          z      P>|z|      [0.025      0.975]\n",
      "----------------------------------------------------------------------------------\n",
      "const              2.5332      0.484      5.236      0.000       1.585       3.481\n",
      "Length             0.1124      2.133      0.053      0.958      -4.069       4.294\n",
      "Diameter          -6.3842      2.574     -2.480      0.013     -11.429      -1.339\n",
      "Height            -2.4078      1.852     -1.300      0.194      -6.038       1.222\n",
      "Whole weight       0.4768      0.817      0.584      0.559      -1.124       2.078\n",
      "Shucked weight     2.5402      0.974      2.608      0.009       0.631       4.449\n",
      "Viscera weight    -3.4855      1.443     -2.415      0.016      -6.314      -0.657\n",
      "Shell weight      -0.0827      1.285     -0.064      0.949      -2.601       2.436\n",
      "Rings             -0.0005      0.018     -0.028      0.978      -0.035       0.034\n",
      "==================================================================================\n",
      "                        Results: MNLogit\n",
      "================================================================\n",
      "Model:              MNLogit          Pseudo R-squared: 0.224    \n",
      "Dependent Variable: Sex              AIC:              5720.1255\n",
      "Date:               2023-10-15 17:14 BIC:              5830.1779\n",
      "No. Observations:   3341             Log-Likelihood:   -2842.1  \n",
      "Df Model:           16               LL-Null:          -3662.2  \n",
      "Df Residuals:       3323             LLR p-value:      0.0000   \n",
      "Converged:          1.0000           Scale:            1.0000   \n",
      "No. Iterations:     8.0000                                      \n",
      "----------------------------------------------------------------\n",
      "   Sex = 0      Coef.   Std.Err.    t    P>|t|   [0.025   0.975]\n",
      "----------------------------------------------------------------\n",
      "         const   2.8285   0.5693  4.9680 0.0000   1.7126  3.9444\n",
      "        Length  18.3254   3.1420  5.8323 0.0000  12.1671 24.4837\n",
      "      Diameter -13.4377   3.8703 -3.4720 0.0005 -21.0234 -5.8521\n",
      "        Height  -9.3798   3.7544 -2.4984 0.0125 -16.7383 -2.0213\n",
      "  Whole weight  -6.0946   1.9726 -3.0897 0.0020  -9.9607 -2.2284\n",
      "Shucked weight   5.4665   2.2378  2.4428 0.0146   1.0805  9.8525\n",
      "Viscera weight -14.4827   2.9809 -4.8584 0.0000 -20.3252 -8.6401\n",
      "  Shell weight   4.6017   2.8737  1.6013 0.1093  -1.0307 10.2340\n",
      "         Rings  -0.1838   0.0297 -6.1826 0.0000  -0.2421 -0.1255\n",
      "----------------------------------------------------------------\n",
      "    Sex = 1      Coef.  Std.Err.    t    P>|t|   [0.025   0.975]\n",
      "----------------------------------------------------------------\n",
      "         const   2.5332   0.4838  5.2361 0.0000   1.5850  3.4814\n",
      "        Length   0.1124   2.1332  0.0527 0.9580  -4.0686  4.2935\n",
      "      Diameter  -6.3842   2.5740 -2.4802 0.0131 -11.4292 -1.3392\n",
      "        Height  -2.4078   1.8521 -1.3000 0.1936  -6.0378  1.2222\n",
      "  Whole weight   0.4768   0.8170  0.5836 0.5595  -1.1245  2.0782\n",
      "Shucked weight   2.5402   0.9739  2.6082 0.0091   0.6314  4.4491\n",
      "Viscera weight  -3.4855   1.4432 -2.4152 0.0157  -6.3141 -0.6570\n",
      "  Shell weight  -0.0827   1.2850 -0.0644 0.9487  -2.6012  2.4357\n",
      "         Rings  -0.0005   0.0178 -0.0276 0.9780  -0.0353  0.0344\n",
      "================================================================\n",
      "\n"
     ]
    }
   ],
   "source": [
    "logit_model = sm.MNLogit(y_train,sm.add_constant(X_train))\n",
    "result=logit_model.fit()\n",
    "stats1=result.summary()\n",
    "stats2=result.summary2()\n",
    "print(stats1)\n",
    "print(stats2)"
   ]
  },
  {
   "cell_type": "code",
   "execution_count": null,
   "id": "efe28dd3",
   "metadata": {},
   "outputs": [],
   "source": []
  },
  {
   "cell_type": "code",
   "execution_count": null,
   "id": "05da5aad",
   "metadata": {},
   "outputs": [],
   "source": []
  },
  {
   "cell_type": "code",
   "execution_count": 43,
   "id": "95e3d2f2",
   "metadata": {},
   "outputs": [],
   "source": [
    "import pandas as pd\n",
    "import numpy as np\n",
    "import scipy as scp\n",
    "import sklearn\n",
    "import statsmodels.api as sm\n",
    "import matplotlib.pyplot as plt\n",
    "from sklearn.model_selection import train_test_split\n",
    "from sklearn.linear_model import LogisticRegression\n",
    "from sklearn.metrics import classification_report,confusion_matrix\n",
    "from sklearn import metrics\n",
    "from sklearn.metrics import confusion_matrix\n",
    "\n",
    "diamond = pd.read_csv(r\"D:\\Study\\DS\\diamonds.csv\")"
   ]
  },
  {
   "cell_type": "code",
   "execution_count": 52,
   "id": "7847d48d",
   "metadata": {},
   "outputs": [
    {
     "data": {
      "text/html": [
       "<div>\n",
       "<style scoped>\n",
       "    .dataframe tbody tr th:only-of-type {\n",
       "        vertical-align: middle;\n",
       "    }\n",
       "\n",
       "    .dataframe tbody tr th {\n",
       "        vertical-align: top;\n",
       "    }\n",
       "\n",
       "    .dataframe thead th {\n",
       "        text-align: right;\n",
       "    }\n",
       "</style>\n",
       "<table border=\"1\" class=\"dataframe\">\n",
       "  <thead>\n",
       "    <tr style=\"text-align: right;\">\n",
       "      <th></th>\n",
       "      <th>carat</th>\n",
       "      <th>cut</th>\n",
       "      <th>color</th>\n",
       "      <th>clarity</th>\n",
       "      <th>depth</th>\n",
       "      <th>table</th>\n",
       "      <th>price</th>\n",
       "      <th>volume</th>\n",
       "    </tr>\n",
       "  </thead>\n",
       "  <tbody>\n",
       "    <tr>\n",
       "      <th>0</th>\n",
       "      <td>0.23</td>\n",
       "      <td>Ideal</td>\n",
       "      <td>E</td>\n",
       "      <td>SI2</td>\n",
       "      <td>61.5</td>\n",
       "      <td>55.0</td>\n",
       "      <td>326</td>\n",
       "      <td>38.202030</td>\n",
       "    </tr>\n",
       "    <tr>\n",
       "      <th>1</th>\n",
       "      <td>0.21</td>\n",
       "      <td>Premium</td>\n",
       "      <td>E</td>\n",
       "      <td>SI1</td>\n",
       "      <td>59.8</td>\n",
       "      <td>61.0</td>\n",
       "      <td>326</td>\n",
       "      <td>34.505856</td>\n",
       "    </tr>\n",
       "    <tr>\n",
       "      <th>2</th>\n",
       "      <td>0.23</td>\n",
       "      <td>Good</td>\n",
       "      <td>E</td>\n",
       "      <td>VS1</td>\n",
       "      <td>56.9</td>\n",
       "      <td>65.0</td>\n",
       "      <td>327</td>\n",
       "      <td>38.076885</td>\n",
       "    </tr>\n",
       "    <tr>\n",
       "      <th>3</th>\n",
       "      <td>0.29</td>\n",
       "      <td>Premium</td>\n",
       "      <td>I</td>\n",
       "      <td>VS2</td>\n",
       "      <td>62.4</td>\n",
       "      <td>58.0</td>\n",
       "      <td>334</td>\n",
       "      <td>46.724580</td>\n",
       "    </tr>\n",
       "    <tr>\n",
       "      <th>4</th>\n",
       "      <td>0.31</td>\n",
       "      <td>Good</td>\n",
       "      <td>J</td>\n",
       "      <td>SI2</td>\n",
       "      <td>63.3</td>\n",
       "      <td>58.0</td>\n",
       "      <td>335</td>\n",
       "      <td>51.917250</td>\n",
       "    </tr>\n",
       "    <tr>\n",
       "      <th>...</th>\n",
       "      <td>...</td>\n",
       "      <td>...</td>\n",
       "      <td>...</td>\n",
       "      <td>...</td>\n",
       "      <td>...</td>\n",
       "      <td>...</td>\n",
       "      <td>...</td>\n",
       "      <td>...</td>\n",
       "    </tr>\n",
       "    <tr>\n",
       "      <th>53935</th>\n",
       "      <td>0.72</td>\n",
       "      <td>Ideal</td>\n",
       "      <td>D</td>\n",
       "      <td>SI1</td>\n",
       "      <td>60.8</td>\n",
       "      <td>57.0</td>\n",
       "      <td>2757</td>\n",
       "      <td>115.920000</td>\n",
       "    </tr>\n",
       "    <tr>\n",
       "      <th>53936</th>\n",
       "      <td>0.72</td>\n",
       "      <td>Good</td>\n",
       "      <td>D</td>\n",
       "      <td>SI1</td>\n",
       "      <td>63.1</td>\n",
       "      <td>55.0</td>\n",
       "      <td>2757</td>\n",
       "      <td>118.110175</td>\n",
       "    </tr>\n",
       "    <tr>\n",
       "      <th>53937</th>\n",
       "      <td>0.70</td>\n",
       "      <td>Very Good</td>\n",
       "      <td>D</td>\n",
       "      <td>SI1</td>\n",
       "      <td>62.8</td>\n",
       "      <td>60.0</td>\n",
       "      <td>2757</td>\n",
       "      <td>114.449728</td>\n",
       "    </tr>\n",
       "    <tr>\n",
       "      <th>53938</th>\n",
       "      <td>0.86</td>\n",
       "      <td>Premium</td>\n",
       "      <td>H</td>\n",
       "      <td>SI2</td>\n",
       "      <td>61.0</td>\n",
       "      <td>58.0</td>\n",
       "      <td>2757</td>\n",
       "      <td>140.766120</td>\n",
       "    </tr>\n",
       "    <tr>\n",
       "      <th>53939</th>\n",
       "      <td>0.75</td>\n",
       "      <td>Ideal</td>\n",
       "      <td>D</td>\n",
       "      <td>SI2</td>\n",
       "      <td>62.2</td>\n",
       "      <td>55.0</td>\n",
       "      <td>2757</td>\n",
       "      <td>124.568444</td>\n",
       "    </tr>\n",
       "  </tbody>\n",
       "</table>\n",
       "<p>53940 rows × 8 columns</p>\n",
       "</div>"
      ],
      "text/plain": [
       "       carat        cut color clarity  depth  table  price      volume\n",
       "0       0.23      Ideal     E     SI2   61.5   55.0    326   38.202030\n",
       "1       0.21    Premium     E     SI1   59.8   61.0    326   34.505856\n",
       "2       0.23       Good     E     VS1   56.9   65.0    327   38.076885\n",
       "3       0.29    Premium     I     VS2   62.4   58.0    334   46.724580\n",
       "4       0.31       Good     J     SI2   63.3   58.0    335   51.917250\n",
       "...      ...        ...   ...     ...    ...    ...    ...         ...\n",
       "53935   0.72      Ideal     D     SI1   60.8   57.0   2757  115.920000\n",
       "53936   0.72       Good     D     SI1   63.1   55.0   2757  118.110175\n",
       "53937   0.70  Very Good     D     SI1   62.8   60.0   2757  114.449728\n",
       "53938   0.86    Premium     H     SI2   61.0   58.0   2757  140.766120\n",
       "53939   0.75      Ideal     D     SI2   62.2   55.0   2757  124.568444\n",
       "\n",
       "[53940 rows x 8 columns]"
      ]
     },
     "execution_count": 52,
     "metadata": {},
     "output_type": "execute_result"
    }
   ],
   "source": [
    "diamond"
   ]
  },
  {
   "cell_type": "code",
   "execution_count": 47,
   "id": "c95902f8",
   "metadata": {},
   "outputs": [
    {
     "data": {
      "text/plain": [
       "CategoricalDtype(categories=['Fair', 'Good', 'Ideal', 'Very Good', 'Premium'], ordered=True)"
      ]
     },
     "execution_count": 47,
     "metadata": {},
     "output_type": "execute_result"
    }
   ],
   "source": [
    "from pandas.api.types import CategoricalDtype\n",
    "cat_type = CategoricalDtype(categories=['Fair','Good','Ideal','Very Good','Premium'],ordered=True)\n",
    "\n",
    "diamond['cut']=diamond['cut'].astype(cat_type)\n",
    "\n",
    "diamond['cut'].dtype"
   ]
  },
  {
   "cell_type": "code",
   "execution_count": null,
   "id": "85207490",
   "metadata": {},
   "outputs": [],
   "source": []
  },
  {
   "cell_type": "code",
   "execution_count": 48,
   "id": "13bb5f2d",
   "metadata": {},
   "outputs": [],
   "source": [
    "diamond['volume']=diamond['x']*diamond['y']*diamond['z']"
   ]
  },
  {
   "cell_type": "code",
   "execution_count": 51,
   "id": "1dc7a2e1",
   "metadata": {},
   "outputs": [],
   "source": [
    "diamond.drop(['x','y','z'],axis=1,inplace=True)"
   ]
  },
  {
   "cell_type": "code",
   "execution_count": null,
   "id": "9246b9a7",
   "metadata": {},
   "outputs": [],
   "source": []
  },
  {
   "cell_type": "code",
   "execution_count": 57,
   "id": "fc6ad43f",
   "metadata": {},
   "outputs": [
    {
     "data": {
      "text/plain": [
       "Text(0.5, 1.0, 'Distribution of Depth')"
      ]
     },
     "execution_count": 57,
     "metadata": {},
     "output_type": "execute_result"
    },
    {
     "data": {
      "image/png": "[encoded data removed]",
      "text/plain": [
       "<Figure size 2400x2400 with 4 Axes>"
      ]
     },
     "metadata": {},
     "output_type": "display_data"
    }
   ],
   "source": [
    "import matplotlib.pyplot as plt\n",
    "\n",
    "plt.figure(figsize=[24,24])\n",
    "\n",
    "plt.subplot(221)\n",
    "plt.hist(diamond['carat'],bins=20,color='b')\n",
    "plt.xlabel('Diamond Depth')\n",
    "plt.title('Distribution of Depth')\n",
    "\n",
    "plt.subplot(222)\n",
    "plt.hist(diamond['depth'],bins=20,color='r')\n",
    "plt.xlabel('Diamond Depth')\n",
    "plt.title('Distribution of Depth')\n",
    "\n",
    "plt.subplot(223)\n",
    "plt.hist(diamond['price'],bins=20,color='g')\n",
    "plt.xlabel('Diamond price')\n",
    "plt.title('Distribution of Depth')\n",
    "\n",
    "plt.subplot(224)\n",
    "plt.hist(diamond['volume'],bins=20,color='m')\n",
    "plt.xlabel('Diamond volume')\n",
    "plt.title('Distribution of Depth')"
   ]
  },
  {
   "cell_type": "code",
   "execution_count": null,
   "id": "557f08cd",
   "metadata": {},
   "outputs": [],
   "source": []
  },
  {
   "cell_type": "code",
   "execution_count": 64,
   "id": "8a2270df",
   "metadata": {},
   "outputs": [],
   "source": [
    "from statsmodels.miscmodels.ordinal_model import OrderedModel\n",
    "\n",
    "mod_prob = OrderedModel(diamond['cut'],diamond[['volume','price','carat']],distr='logit')"
   ]
  },
  {
   "cell_type": "code",
   "execution_count": null,
   "id": "36254bdc",
   "metadata": {},
   "outputs": [],
   "source": []
  },
  {
   "cell_type": "code",
   "execution_count": 65,
   "id": "e56f7a43",
   "metadata": {},
   "outputs": [
    {
     "name": "stdout",
     "output_type": "stream",
     "text": [
      "Optimization terminated successfully.\n",
      "         Current function value: 1.369215\n",
      "         Iterations: 36\n",
      "         Function evaluations: 42\n",
      "         Gradient evaluations: 42\n"
     ]
    },
    {
     "data": {
      "text/html": [
       "<table class=\"simpletable\">\n",
       "<caption>OrderedModel Results</caption>\n",
       "<tr>\n",
       "  <th>Dep. Variable:</th>            <td>cut</td>        <th>  Log-Likelihood:    </th> <td> -73855.</td> \n",
       "</tr>\n",
       "<tr>\n",
       "  <th>Model:</th>               <td>OrderedModel</td>    <th>  AIC:               </th> <td>1.477e+05</td>\n",
       "</tr>\n",
       "<tr>\n",
       "  <th>Method:</th>           <td>Maximum Likelihood</td> <th>  BIC:               </th> <td>1.478e+05</td>\n",
       "</tr>\n",
       "<tr>\n",
       "  <th>Date:</th>              <td>Sun, 15 Oct 2023</td>  <th>                     </th>     <td> </td>    \n",
       "</tr>\n",
       "<tr>\n",
       "  <th>Time:</th>                  <td>17:47:37</td>      <th>                     </th>     <td> </td>    \n",
       "</tr>\n",
       "<tr>\n",
       "  <th>No. Observations:</th>       <td> 53940</td>       <th>                     </th>     <td> </td>    \n",
       "</tr>\n",
       "<tr>\n",
       "  <th>Df Residuals:</th>           <td> 53933</td>       <th>                     </th>     <td> </td>    \n",
       "</tr>\n",
       "<tr>\n",
       "  <th>Df Model:</th>               <td>     7</td>       <th>                     </th>     <td> </td>    \n",
       "</tr>\n",
       "</table>\n",
       "<table class=\"simpletable\">\n",
       "<tr>\n",
       "          <td></td>             <th>coef</th>     <th>std err</th>      <th>z</th>      <th>P>|z|</th>  <th>[0.025</th>    <th>0.975]</th>  \n",
       "</tr>\n",
       "<tr>\n",
       "  <th>volume</th>            <td>    0.0104</td> <td>    0.002</td> <td>    5.875</td> <td> 0.000</td> <td>    0.007</td> <td>    0.014</td>\n",
       "</tr>\n",
       "<tr>\n",
       "  <th>price</th>             <td> 2.348e-05</td> <td> 5.31e-06</td> <td>    4.425</td> <td> 0.000</td> <td> 1.31e-05</td> <td> 3.39e-05</td>\n",
       "</tr>\n",
       "<tr>\n",
       "  <th>carat</th>             <td>   -1.5407</td> <td>    0.286</td> <td>   -5.394</td> <td> 0.000</td> <td>   -2.100</td> <td>   -0.981</td>\n",
       "</tr>\n",
       "<tr>\n",
       "  <th>Fair/Good</th>         <td>   -3.2836</td> <td>    0.031</td> <td> -105.758</td> <td> 0.000</td> <td>   -3.344</td> <td>   -3.223</td>\n",
       "</tr>\n",
       "<tr>\n",
       "  <th>Good/Ideal</th>        <td>    0.4038</td> <td>    0.015</td> <td>   27.062</td> <td> 0.000</td> <td>    0.375</td> <td>    0.433</td>\n",
       "</tr>\n",
       "<tr>\n",
       "  <th>Ideal/Very Good</th>   <td>    0.7301</td> <td>    0.006</td> <td>  116.508</td> <td> 0.000</td> <td>    0.718</td> <td>    0.742</td>\n",
       "</tr>\n",
       "<tr>\n",
       "  <th>Very Good/Premium</th> <td>   -0.0055</td> <td>    0.008</td> <td>   -0.653</td> <td> 0.514</td> <td>   -0.022</td> <td>    0.011</td>\n",
       "</tr>\n",
       "</table>"
      ],
      "text/plain": [
       "<class 'statsmodels.iolib.summary.Summary'>\n",
       "\"\"\"\n",
       "                             OrderedModel Results                             \n",
       "==============================================================================\n",
       "Dep. Variable:                    cut   Log-Likelihood:                -73855.\n",
       "Model:                   OrderedModel   AIC:                         1.477e+05\n",
       "Method:            Maximum Likelihood   BIC:                         1.478e+05\n",
       "Date:                Sun, 15 Oct 2023                                         \n",
       "Time:                        17:47:37                                         \n",
       "No. Observations:               53940                                         \n",
       "Df Residuals:                   53933                                         \n",
       "Df Model:                           7                                         \n",
       "=====================================================================================\n",
       "                        coef    std err          z      P>|z|      [0.025      0.975]\n",
       "-------------------------------------------------------------------------------------\n",
       "volume                0.0104      0.002      5.875      0.000       0.007       0.014\n",
       "price              2.348e-05   5.31e-06      4.425      0.000    1.31e-05    3.39e-05\n",
       "carat                -1.5407      0.286     -5.394      0.000      -2.100      -0.981\n",
       "Fair/Good            -3.2836      0.031   -105.758      0.000      -3.344      -3.223\n",
       "Good/Ideal            0.4038      0.015     27.062      0.000       0.375       0.433\n",
       "Ideal/Very Good       0.7301      0.006    116.508      0.000       0.718       0.742\n",
       "Very Good/Premium    -0.0055      0.008     -0.653      0.514      -0.022       0.011\n",
       "=====================================================================================\n",
       "\"\"\""
      ]
     },
     "execution_count": 65,
     "metadata": {},
     "output_type": "execute_result"
    }
   ],
   "source": [
    "res_prob = mod_prob.fit(method='bfgs')\n",
    "res_prob.summary()"
   ]
  },
  {
   "cell_type": "code",
   "execution_count": null,
   "id": "0111fc19",
   "metadata": {},
   "outputs": [],
   "source": []
  },
  {
   "cell_type": "code",
   "execution_count": 67,
   "id": "e49e83a6",
   "metadata": {},
   "outputs": [
    {
     "name": "stderr",
     "output_type": "stream",
     "text": [
      "C:\\ProgramData\\anaconda3\\lib\\site-packages\\statsmodels\\miscmodels\\ordinal_model.py:419: FutureWarning: Support for multi-dimensional indexing (e.g. `obj[:, None]`) is deprecated and will be removed in a future version.  Convert to a numpy array before indexing instead.\n",
      "  xb = xb[:, None]\n"
     ]
    },
    {
     "data": {
      "text/plain": [
       "array([[0.03443606, 0.10308231, 0.42201809, 0.21495304, 0.2255105 ],\n",
       "       [0.03468862, 0.10372996, 0.42298246, 0.21440769, 0.22419127],\n",
       "       [0.03447851, 0.10319128, 0.42218114, 0.21486137, 0.2252877 ],\n",
       "       ...,\n",
       "       [0.03052062, 0.09285935, 0.40522189, 0.22335735, 0.2480408 ],\n",
       "       [0.02973833, 0.0907751 , 0.40141256, 0.22500614, 0.25306787],\n",
       "       [0.02970169, 0.09067712, 0.4012301 , 0.22508295, 0.25330815]])"
      ]
     },
     "execution_count": 67,
     "metadata": {},
     "output_type": "execute_result"
    }
   ],
   "source": [
    "predicted = res_prob.model.predict(res_prob.params, exog=diamond[['volume','price','carat']])\n",
    "predicted"
   ]
  },
  {
   "cell_type": "code",
   "execution_count": 71,
   "id": "9ce866a0",
   "metadata": {},
   "outputs": [
    {
     "name": "stdout",
     "output_type": "stream",
     "text": [
      "Optimization terminated successfully.\n",
      "         Current function value: 1.369215\n",
      "         Iterations: 36\n",
      "         Function evaluations: 42\n",
      "         Gradient evaluations: 42\n"
     ]
    },
    {
     "data": {
      "text/html": [
       "<table class=\"simpletable\">\n",
       "<caption>OrderedModel Results</caption>\n",
       "<tr>\n",
       "  <th>Dep. Variable:</th>            <td>cut</td>        <th>  Log-Likelihood:    </th> <td> -73855.</td> \n",
       "</tr>\n",
       "<tr>\n",
       "  <th>Model:</th>               <td>OrderedModel</td>    <th>  AIC:               </th> <td>1.477e+05</td>\n",
       "</tr>\n",
       "<tr>\n",
       "  <th>Method:</th>           <td>Maximum Likelihood</td> <th>  BIC:               </th> <td>1.478e+05</td>\n",
       "</tr>\n",
       "<tr>\n",
       "  <th>Date:</th>              <td>Sun, 15 Oct 2023</td>  <th>                     </th>     <td> </td>    \n",
       "</tr>\n",
       "<tr>\n",
       "  <th>Time:</th>                  <td>17:56:00</td>      <th>                     </th>     <td> </td>    \n",
       "</tr>\n",
       "<tr>\n",
       "  <th>No. Observations:</th>       <td> 53940</td>       <th>                     </th>     <td> </td>    \n",
       "</tr>\n",
       "<tr>\n",
       "  <th>Df Residuals:</th>           <td> 53933</td>       <th>                     </th>     <td> </td>    \n",
       "</tr>\n",
       "<tr>\n",
       "  <th>Df Model:</th>               <td>     7</td>       <th>                     </th>     <td> </td>    \n",
       "</tr>\n",
       "</table>\n",
       "<table class=\"simpletable\">\n",
       "<tr>\n",
       "          <td></td>             <th>coef</th>     <th>std err</th>      <th>z</th>      <th>P>|z|</th>  <th>[0.025</th>    <th>0.975]</th>  \n",
       "</tr>\n",
       "<tr>\n",
       "  <th>volume</th>            <td>    0.0104</td> <td>    0.002</td> <td>    5.875</td> <td> 0.000</td> <td>    0.007</td> <td>    0.014</td>\n",
       "</tr>\n",
       "<tr>\n",
       "  <th>price</th>             <td> 2.348e-05</td> <td> 5.31e-06</td> <td>    4.425</td> <td> 0.000</td> <td> 1.31e-05</td> <td> 3.39e-05</td>\n",
       "</tr>\n",
       "<tr>\n",
       "  <th>carat</th>             <td>   -1.5407</td> <td>    0.286</td> <td>   -5.394</td> <td> 0.000</td> <td>   -2.100</td> <td>   -0.981</td>\n",
       "</tr>\n",
       "<tr>\n",
       "  <th>Fair/Good</th>         <td>   -3.2836</td> <td>    0.031</td> <td> -105.758</td> <td> 0.000</td> <td>   -3.344</td> <td>   -3.223</td>\n",
       "</tr>\n",
       "<tr>\n",
       "  <th>Good/Ideal</th>        <td>    0.4038</td> <td>    0.015</td> <td>   27.062</td> <td> 0.000</td> <td>    0.375</td> <td>    0.433</td>\n",
       "</tr>\n",
       "<tr>\n",
       "  <th>Ideal/Very Good</th>   <td>    0.7301</td> <td>    0.006</td> <td>  116.508</td> <td> 0.000</td> <td>    0.718</td> <td>    0.742</td>\n",
       "</tr>\n",
       "<tr>\n",
       "  <th>Very Good/Premium</th> <td>   -0.0055</td> <td>    0.008</td> <td>   -0.653</td> <td> 0.514</td> <td>   -0.022</td> <td>    0.011</td>\n",
       "</tr>\n",
       "</table>"
      ],
      "text/plain": [
       "<class 'statsmodels.iolib.summary.Summary'>\n",
       "\"\"\"\n",
       "                             OrderedModel Results                             \n",
       "==============================================================================\n",
       "Dep. Variable:                    cut   Log-Likelihood:                -73855.\n",
       "Model:                   OrderedModel   AIC:                         1.477e+05\n",
       "Method:            Maximum Likelihood   BIC:                         1.478e+05\n",
       "Date:                Sun, 15 Oct 2023                                         \n",
       "Time:                        17:56:00                                         \n",
       "No. Observations:               53940                                         \n",
       "Df Residuals:                   53933                                         \n",
       "Df Model:                           7                                         \n",
       "=====================================================================================\n",
       "                        coef    std err          z      P>|z|      [0.025      0.975]\n",
       "-------------------------------------------------------------------------------------\n",
       "volume                0.0104      0.002      5.875      0.000       0.007       0.014\n",
       "price              2.348e-05   5.31e-06      4.425      0.000    1.31e-05    3.39e-05\n",
       "carat                -1.5407      0.286     -5.394      0.000      -2.100      -0.981\n",
       "Fair/Good            -3.2836      0.031   -105.758      0.000      -3.344      -3.223\n",
       "Good/Ideal            0.4038      0.015     27.062      0.000       0.375       0.433\n",
       "Ideal/Very Good       0.7301      0.006    116.508      0.000       0.718       0.742\n",
       "Very Good/Premium    -0.0055      0.008     -0.653      0.514      -0.022       0.011\n",
       "=====================================================================================\n",
       "\"\"\""
      ]
     },
     "execution_count": 71,
     "metadata": {},
     "output_type": "execute_result"
    }
   ],
   "source": [
    "res_prob = mod_prob.fit(method = 'bfgs')\n",
    "res_prob.summary()"
   ]
  },
  {
   "cell_type": "code",
   "execution_count": null,
   "id": "b31aeda9",
   "metadata": {},
   "outputs": [],
   "source": []
  },
  {
   "cell_type": "code",
   "execution_count": null,
   "id": "235b7a58",
   "metadata": {},
   "outputs": [],
   "source": []
  },
  {
   "cell_type": "code",
   "execution_count": null,
   "id": "7d7d04e3",
   "metadata": {},
   "outputs": [],
   "source": []
  },
  {
   "cell_type": "code",
   "execution_count": null,
   "id": "c49acd14",
   "metadata": {},
   "outputs": [],
   "source": []
  },
  {
   "cell_type": "code",
   "execution_count": null,
   "id": "9ac28cd6",
   "metadata": {},
   "outputs": [],
   "source": []
  },
  {
   "cell_type": "code",
   "execution_count": null,
   "id": "a23f3743",
   "metadata": {},
   "outputs": [],
   "source": []
  }
 ],
 "metadata": {
  "kernelspec": {
   "display_name": "Python 3 (ipykernel)",
   "language": "python",
   "name": "python3"
  },
  "language_info": {
   "codemirror_mode": {
    "name": "ipython",
    "version": 3
   },
   "file_extension": ".py",
   "mimetype": "text/x-python",
   "name": "python",
   "nbconvert_exporter": "python",
   "pygments_lexer": "ipython3",
   "version": "3.10.9"
  }
 },
 "nbformat": 4,
 "nbformat_minor": 5
}
